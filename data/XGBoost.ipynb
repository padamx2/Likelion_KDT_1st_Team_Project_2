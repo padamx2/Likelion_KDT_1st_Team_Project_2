{
 "cells": [
  {
   "cell_type": "code",
   "execution_count": 1,
   "metadata": {
    "id": "Ptv4vpmU09O7"
   },
   "outputs": [],
   "source": [
    "from xgboost import XGBRegressor\n",
    "import bs4\n",
    "import time\n",
    "import os\n",
    "import pandas as pd\n",
    "import numpy as np\n",
    "import matplotlib.pyplot as plt\n",
    "import re\n",
    "from xgboost import XGBClassifier\n",
    "from sklearn.model_selection import train_test_split,GridSearchCV\n",
    "from sklearn import metrics\n",
    "from sklearn.datasets import load_digits\n",
    "from math import sqrt"
   ]
  },
  {
   "cell_type": "code",
   "execution_count": 2,
   "metadata": {
    "colab": {
     "base_uri": "https://localhost:8080/",
     "height": 600
    },
    "id": "f3YgI2g05DqY",
    "outputId": "f9021664-9ca6-4805-c8cd-9c5a89669984"
   },
   "outputs": [
    {
     "data": {
      "text/html": [
       "<div>\n",
       "<style scoped>\n",
       "    .dataframe tbody tr th:only-of-type {\n",
       "        vertical-align: middle;\n",
       "    }\n",
       "\n",
       "    .dataframe tbody tr th {\n",
       "        vertical-align: top;\n",
       "    }\n",
       "\n",
       "    .dataframe thead th {\n",
       "        text-align: right;\n",
       "    }\n",
       "</style>\n",
       "<table border=\"1\" class=\"dataframe\">\n",
       "  <thead>\n",
       "    <tr style=\"text-align: right;\">\n",
       "      <th></th>\n",
       "      <th>Unnamed: 0</th>\n",
       "      <th>CurbWeight</th>\n",
       "      <th>TopSpeed</th>\n",
       "      <th>Displacement</th>\n",
       "      <th>Power</th>\n",
       "      <th>Torque</th>\n",
       "      <th>vehicle</th>\n",
       "      <th>laptime</th>\n",
       "      <th>Price</th>\n",
       "      <th>Zero</th>\n",
       "    </tr>\n",
       "  </thead>\n",
       "  <tbody>\n",
       "    <tr>\n",
       "      <th>0</th>\n",
       "      <td>1</td>\n",
       "      <td>1626</td>\n",
       "      <td>325.0</td>\n",
       "      <td>4.0</td>\n",
       "      <td>730.0</td>\n",
       "      <td>800.0</td>\n",
       "      <td>AMG GT Black Series</td>\n",
       "      <td>403.62</td>\n",
       "      <td>337800</td>\n",
       "      <td>3.10</td>\n",
       "    </tr>\n",
       "    <tr>\n",
       "      <th>1</th>\n",
       "      <td>2</td>\n",
       "      <td>1525</td>\n",
       "      <td>354.0</td>\n",
       "      <td>6.5</td>\n",
       "      <td>770.0</td>\n",
       "      <td>720.0</td>\n",
       "      <td>Lamborghini Aventador SVJ</td>\n",
       "      <td>404.97</td>\n",
       "      <td>432300</td>\n",
       "      <td>2.80</td>\n",
       "    </tr>\n",
       "    <tr>\n",
       "      <th>2</th>\n",
       "      <td>3</td>\n",
       "      <td>650</td>\n",
       "      <td>290.0</td>\n",
       "      <td>2.8</td>\n",
       "      <td>455.0</td>\n",
       "      <td>380.0</td>\n",
       "      <td>Radical SR8LM</td>\n",
       "      <td>408.00</td>\n",
       "      <td>NaN</td>\n",
       "      <td>3.30</td>\n",
       "    </tr>\n",
       "    <tr>\n",
       "      <th>3</th>\n",
       "      <td>4</td>\n",
       "      <td>1526</td>\n",
       "      <td>328.0</td>\n",
       "      <td>5.2</td>\n",
       "      <td>640.0</td>\n",
       "      <td>600.0</td>\n",
       "      <td>Lamborghini Huracán Performante</td>\n",
       "      <td>412.01</td>\n",
       "      <td>NaN</td>\n",
       "      <td>2.80</td>\n",
       "    </tr>\n",
       "    <tr>\n",
       "      <th>4</th>\n",
       "      <td>5</td>\n",
       "      <td>650</td>\n",
       "      <td>270.0</td>\n",
       "      <td>2.6</td>\n",
       "      <td>363.0</td>\n",
       "      <td>271.0</td>\n",
       "      <td>Radical SR8</td>\n",
       "      <td>415.00</td>\n",
       "      <td>NaN</td>\n",
       "      <td>2.70</td>\n",
       "    </tr>\n",
       "    <tr>\n",
       "      <th>5</th>\n",
       "      <td>6</td>\n",
       "      <td>1420</td>\n",
       "      <td>312.0</td>\n",
       "      <td>4.0</td>\n",
       "      <td>520.0</td>\n",
       "      <td>469.0</td>\n",
       "      <td>Porsche 911 GT3 RS</td>\n",
       "      <td>416.40</td>\n",
       "      <td>196800</td>\n",
       "      <td>3.30</td>\n",
       "    </tr>\n",
       "    <tr>\n",
       "      <th>6</th>\n",
       "      <td>7</td>\n",
       "      <td>1634</td>\n",
       "      <td>345.0</td>\n",
       "      <td>4.6</td>\n",
       "      <td>887.0</td>\n",
       "      <td>1280.0</td>\n",
       "      <td>Porsche 918 Spyder</td>\n",
       "      <td>417.00</td>\n",
       "      <td>803700</td>\n",
       "      <td>2.60</td>\n",
       "    </tr>\n",
       "    <tr>\n",
       "      <th>7</th>\n",
       "      <td>8</td>\n",
       "      <td>1525</td>\n",
       "      <td>353.0</td>\n",
       "      <td>6.5</td>\n",
       "      <td>750.0</td>\n",
       "      <td>690.0</td>\n",
       "      <td>Aventador LP750-4 SV</td>\n",
       "      <td>419.73</td>\n",
       "      <td>411900</td>\n",
       "      <td>2.90</td>\n",
       "    </tr>\n",
       "    <tr>\n",
       "      <th>8</th>\n",
       "      <td>9</td>\n",
       "      <td>1385</td>\n",
       "      <td>342.0</td>\n",
       "      <td>3.9</td>\n",
       "      <td>720.0</td>\n",
       "      <td>770.0</td>\n",
       "      <td>Ferrari 488 Pista</td>\n",
       "      <td>420.03</td>\n",
       "      <td>304200</td>\n",
       "      <td>2.85</td>\n",
       "    </tr>\n",
       "    <tr>\n",
       "      <th>9</th>\n",
       "      <td>10</td>\n",
       "      <td>1527</td>\n",
       "      <td>285.0</td>\n",
       "      <td>8.4</td>\n",
       "      <td>654.0</td>\n",
       "      <td>813.0</td>\n",
       "      <td>Dodge Viper ACR (Mk V)</td>\n",
       "      <td>421.30</td>\n",
       "      <td>128100</td>\n",
       "      <td>4.00</td>\n",
       "    </tr>\n",
       "  </tbody>\n",
       "</table>\n",
       "</div>"
      ],
      "text/plain": [
       "   Unnamed: 0  CurbWeight  TopSpeed  Displacement  Power  Torque  \\\n",
       "0           1        1626     325.0           4.0  730.0   800.0   \n",
       "1           2        1525     354.0           6.5  770.0   720.0   \n",
       "2           3         650     290.0           2.8  455.0   380.0   \n",
       "3           4        1526     328.0           5.2  640.0   600.0   \n",
       "4           5         650     270.0           2.6  363.0   271.0   \n",
       "5           6        1420     312.0           4.0  520.0   469.0   \n",
       "6           7        1634     345.0           4.6  887.0  1280.0   \n",
       "7           8        1525     353.0           6.5  750.0   690.0   \n",
       "8           9        1385     342.0           3.9  720.0   770.0   \n",
       "9          10        1527     285.0           8.4  654.0   813.0   \n",
       "\n",
       "                           vehicle  laptime   Price  Zero  \n",
       "0              AMG GT Black Series   403.62  337800  3.10  \n",
       "1        Lamborghini Aventador SVJ   404.97  432300  2.80  \n",
       "2                    Radical SR8LM   408.00     NaN  3.30  \n",
       "3  Lamborghini Huracán Performante   412.01     NaN  2.80  \n",
       "4                      Radical SR8   415.00     NaN  2.70  \n",
       "5               Porsche 911 GT3 RS   416.40  196800  3.30  \n",
       "6               Porsche 918 Spyder   417.00  803700  2.60  \n",
       "7             Aventador LP750-4 SV   419.73  411900  2.90  \n",
       "8                Ferrari 488 Pista   420.03  304200  2.85  \n",
       "9           Dodge Viper ACR (Mk V)   421.30  128100  4.00  "
      ]
     },
     "execution_count": 2,
     "metadata": {},
     "output_type": "execute_result"
    }
   ],
   "source": [
    "df = pd.read_excel('vehicle.xlsx', engine = 'openpyxl')\n",
    "df = df[:-31]\n",
    "df.head(10)"
   ]
  },
  {
   "cell_type": "code",
   "execution_count": 3,
   "metadata": {},
   "outputs": [],
   "source": [
    "Y_data_ = df[\"laptime\"].values\n",
    "# X_data_ = df[[\"CurbWeight\",\"TopSpeed\", \"Power\",\"Torque\",\"Zero\"]].values\n",
    "X_data_ = df[[\"CurbWeight\",\"Displacement\",\"TopSpeed\", \"Power\",\"Torque\",\"Zero\"]].values\n",
    "X_train, X_test, Y_train, Y_test = train_test_split(X_data_, Y_data_, test_size=0.2, random_state=1234)"
   ]
  },
  {
   "cell_type": "code",
   "execution_count": 4,
   "metadata": {
    "id": "0VJNKg094-sq"
   },
   "outputs": [],
   "source": [
    "depth_grid = np.arange(1,21)                                    # 하이퍼파라미터의 범위 설정\n",
    "n_estimators=np.arange(50,200)\n",
    "min_samples_leaf_grid = np.arange(2,31,2)\n",
    "max_leaf_nodes_grid = np.arange(2,51,2)\n",
    "parameters = {'max_depth':depth_grid, 'min_samples_leaf':min_samples_leaf_grid, 'max_leaf_nodes':max_leaf_nodes_grid }"
   ]
  },
  {
   "cell_type": "code",
   "execution_count": 5,
   "metadata": {
    "colab": {
     "base_uri": "https://localhost:8080/"
    },
    "id": "wDbZa1Fe5MV4",
    "outputId": "f4e9a73c-f809-4a5f-85cb-680c78430435"
   },
   "outputs": [
    {
     "name": "stdout",
     "output_type": "stream",
     "text": [
      "[10:39:09] WARNING: C:/Users/Administrator/workspace/xgboost-win64_release_1.3.0/src/learner.cc:541: \n",
      "Parameters: { max_leaf_nodes, min_samples_leaf } might not be used.\n",
      "\n",
      "  This may not be accurate due to some parameters are only used in language bindings but\n",
      "  passed down to XGBoost core.  Or some parameters are not used but slip through this\n",
      "  verification. Please open an issue if you find above cases.\n",
      "\n",
      "\n"
     ]
    }
   ],
   "source": [
    "gridCV = GridSearchCV(XGBRegressor(), parameters, cv=10, n_jobs = -1)      # XGBoostRegressor함수 입력\n",
    "gridCV.fit(X_train, Y_train)                                                # 데이터의 최적화된 하이퍼파라미터의 찾기\n",
    "best_depth = gridCV.best_params_['max_depth'] \n",
    "best_min_samples_leaf = gridCV.best_params_['min_samples_leaf']\n",
    "best_max_leaf_nodes = gridCV.best_params_['max_leaf_nodes']"
   ]
  },
  {
   "cell_type": "code",
   "execution_count": 6,
   "metadata": {
    "colab": {
     "base_uri": "https://localhost:8080/"
    },
    "id": "0Jqo9s2X5XB5",
    "outputId": "e8d0517b-3b93-48a2-9cfa-20a8d7738f28"
   },
   "outputs": [
    {
     "name": "stdout",
     "output_type": "stream",
     "text": [
      "[10:39:09] WARNING: C:/Users/Administrator/workspace/xgboost-win64_release_1.3.0/src/learner.cc:541: \n",
      "Parameters: { max_leaf_nodes, min_samples_leaf } might not be used.\n",
      "\n",
      "  This may not be accurate due to some parameters are only used in language bindings but\n",
      "  passed down to XGBoost core.  Or some parameters are not used but slip through this\n",
      "  verification. Please open an issue if you find above cases.\n",
      "\n",
      "\n",
      "Tree best RMSE : 11.451\n"
     ]
    }
   ],
   "source": [
    "XGBR_best = XGBRegressor(max_depth=best_depth,min_samples_leaf=best_min_samples_leaf,max_leaf_nodes=best_max_leaf_nodes)\n",
    "XGBR_best.fit(X_train, Y_train)                                             # 최적화된 하이퍼파라미터를 입력하고 훈련\n",
    "Y_pred = XGBR_best.predict(X_test)                                          # 예측모델의 Test데이터를 이용하여 RMSE 출력\n",
    "print( \"Tree best RMSE : \" + str(np.round(np.sqrt(metrics.mean_squared_error(Y_test,Y_pred)),3)))"
   ]
  },
  {
   "cell_type": "code",
   "execution_count": 7,
   "metadata": {
    "id": "1oECTBk2buoQ"
   },
   "outputs": [
    {
     "name": "stdout",
     "output_type": "stream",
     "text": [
      "4 2 2\n"
     ]
    }
   ],
   "source": [
    "best_depth = gridCV.best_params_['max_depth'] \n",
    "best_min_samples_leaf = gridCV.best_params_['min_samples_leaf']\n",
    "best_max_leaf_nodes = gridCV.best_params_['max_leaf_nodes']\n",
    "print(best_depth, best_min_samples_leaf, best_max_leaf_nodes)"
   ]
  },
  {
   "cell_type": "code",
   "execution_count": null,
   "metadata": {},
   "outputs": [],
   "source": []
  }
 ],
 "metadata": {
  "colab": {
   "collapsed_sections": [],
   "name": "XGBoost.ipynb",
   "provenance": []
  },
  "kernelspec": {
   "display_name": "Python 3",
   "language": "python",
   "name": "python3"
  },
  "language_info": {
   "codemirror_mode": {
    "name": "ipython",
    "version": 3
   },
   "file_extension": ".py",
   "mimetype": "text/x-python",
   "name": "python",
   "nbconvert_exporter": "python",
   "pygments_lexer": "ipython3",
   "version": "3.8.5"
  }
 },
 "nbformat": 4,
 "nbformat_minor": 1
}
